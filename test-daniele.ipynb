{
 "cells": [
  {
   "cell_type": "code",
   "execution_count": 16,
   "metadata": {},
   "outputs": [
    {
     "name": "stdout",
     "output_type": "stream",
     "text": [
      "REBOUND Webserver listening on http://localhost:1242 ...\n"
     ]
    },
    {
     "data": {
      "text/html": [
       "\n",
       "        <iframe\n",
       "            width=\"1000\"\n",
       "            height=\"1000\"\n",
       "            src=\"http://localhost:1242\"\n",
       "            frameborder=\"0\"\n",
       "            allowfullscreen\n",
       "            \n",
       "        ></iframe>\n",
       "        "
      ],
      "text/plain": [
       "<IPython.lib.display.IFrame at 0x76a3a81baf50>"
      ]
     },
     "metadata": {},
     "output_type": "display_data"
    }
   ],
   "source": [
    "import rebound\n",
    "import numpy as np \n",
    "import matplotlib.pyplot as plt\n",
    "boxL = 10\n",
    "sim = rebound.Simulation()\n",
    "nx, ny = 10, 5\n",
    "sim.widget(port=1242,size=(1000,1000))\n",
    "sim.configure_box(boxL,nx,ny)\n",
    "sim.boundary = \"open\"\n",
    "sim.gravity = \"tree\"\n",
    "sim.integrator = \"leapfrog\"\n",
    "sim.softening = 1\n",
    "sim.opening_angle2 = 1.5\n",
    "np.random.seed(0)\n",
    "M = 100\n",
    "N = 1000\n",
    "m = 100\n",
    "T = 20\n",
    "# più cresce M, o N, o Vx, o diminuisce mBH o vBH\n",
    "# ovvero più il momento è dominato da quello della particelle\n",
    "# più rispetto al centro di massa si muove veloce BH\n",
    "# quindi più stelle sono più lente di lui ovvero rho(<vs)\n",
    "Vx = 10\n",
    "nrows = 20\n",
    "ncols = int(N/nrows)\n",
    "k = 0\n",
    "xs = np.linspace(-nx*boxL/2,nx*boxL/2,ncols)\n",
    "ys = np.linspace(-ny*boxL/2*0.9,ny*boxL/2*0.9,nrows)\n",
    "for x in xs:\n",
    "    for y in ys:\n",
    "        vx = -2*Vx\n",
    "        sim.add(m=M/N,x=x,y=y,vx=vx,r=boxL/200)\n",
    "sim.add(m=m,x=boxL*(nx-1)/nx,y=0,vx=0,vy=0,hash=\"BH\",r=boxL/50)\n",
    "sim.collision = \"none\"\n",
    "steps = int(1e4)\n",
    "# v = np.zeros(steps)\n",
    "# theta = np.zeros(steps)\n",
    "v = []\n",
    "theta = 0\n",
    "i = 0\n",
    "k = 0\n",
    "Nparticles = sim.N\n",
    "cycle = 0\n",
    "# dt = sim.dt\n",
    "def heartbeat(sim_pointer):\n",
    "    global v, theta, i, Nparticles, k, cycle\n",
    "    sim = sim_pointer.contents\n",
    "    t = sim.t\n",
    "    dt = boxL**3/(N-1)/(2*Vx)\n",
    "    if np.floor(t/dt)>cycle:\n",
    "        cycle += 1\n",
    "        x = nx*boxL/2\n",
    "        ys = np.linspace(-ny*boxL/2*0.9,ny*boxL/2*0.9,nrows)\n",
    "        vx = -2*Vx\n",
    "        for y in ys:\n",
    "            sim.add(m=M/N,x=x,y=y,vx=vx,r=boxL/100)\n",
    "        t = 0\n",
    "\n",
    "        Nparticles = sim.N\n",
    "    \n",
    "    v = np.append(v,sim.particles[\"BH\"].vx)\n",
    "    i+=1\n",
    "\n",
    "sim.heartbeat = heartbeat\n"
   ]
  },
  {
   "cell_type": "code",
   "execution_count": 17,
   "metadata": {},
   "outputs": [
    {
     "data": {
      "image/png": "[encoded data removed]",
      "text/plain": [
       "<Figure size 640x480 with 1 Axes>"
      ]
     },
     "metadata": {},
     "output_type": "display_data"
    }
   ],
   "source": [
    "fig, ax = plt.subplots()\n",
    "\n",
    "sim.integrate(T)\n",
    "# sim.steps(steps)\n",
    "\n",
    "ts = np.linspace(0,T,len(v))\n",
    "ax.plot(ts,v)\n",
    "plt.show()\n",
    "# fig.savefig(f\"N{N}m{m}t{T}.png\")\n"
   ]
  },
  {
   "cell_type": "markdown",
   "metadata": {},
   "source": [
    "# Preventivo\n",
    "\n",
    "FRIZIONE DINAMICAAAA\n",
    "\n",
    "Test:\n",
    "- prima di cominciare il test mettere in condizione stazionaria\n",
    "1. conf semplice\n",
    "2. conf. con \"rotazione differenziale\"\n",
    "3. (opzionale) BH che precipita al centro di un disco\n",
    "\n",
    "variando:\n",
    "- massa BH\n",
    "- velocità relativa (testare stelle v=cost, v=Maxwell-Boltzmann)\n",
    "- densità stelle\n",
    "\n",
    "Formula di Chandrasekhar funziona in sistema di rif. dove la velocità media delle particelle è 0, aka isotropa, cioè quello che muove a destra di vx0\n",
    "\n",
    "dipendenza temporale:\n",
    "- la forza dovrebbe cambiare esattamente quando vBH ~ sigma (se stelle hanno vx MB)\n",
    "Per ogni test:\n",
    "- Tracciare posizione, velocità, accelerazioni BH\n",
    "- Tracciare distribuzione spazio delle fasi delle particelle (y,vx,vy,v)\n",
    "\n",
    "Roba computazionale:\n",
    "- studiare complessità del problema al variare dei parametri della simulazione e funzionalità di rebound\n"
   ]
  }
 ],
 "metadata": {
  "kernelspec": {
   "display_name": ".venv",
   "language": "python",
   "name": "python3"
  },
  "language_info": {
   "codemirror_mode": {
    "name": "ipython",
    "version": 3
   },
   "file_extension": ".py",
   "mimetype": "text/x-python",
   "name": "python",
   "nbconvert_exporter": "python",
   "pygments_lexer": "ipython3",
   "version": "3.13.2"
  }
 },
 "nbformat": 4,
 "nbformat_minor": 2
}
