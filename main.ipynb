{
 "cells": [
  {
   "cell_type": "markdown",
   "id": "69cbceab",
   "metadata": {},
   "source": [
    "# Frizione dinamica con [Rebound](https://rebound.readthedocs.io/en/latest/)"
   ]
  },
  {
   "cell_type": "markdown",
   "id": "9158f9d6",
   "metadata": {},
   "source": [
    "### Indice\n",
    "- Intro teorica frizione dinamica (da test-luca quasi scritto tutto)\n",
    "- Test per funzionamento base di rebound\n",
    "    - Basic: aggiungere particelle con certa posizione e velocità \n",
    "    - Come usare il widget per la visualizzazione\n",
    "    - Esempi: [self-gravitating disc](https://rebound.readthedocs.io/en/latest/c_examples/selfgravity_disc/), [cometa CG](https://rebound.readthedocs.io/en/latest/ipython_examples/Churyumov-Gerasimenko/)\n",
    "- Ricerca di un buon setup per studiare DF:\n",
    "    - Box periodica con gas di particelle (destinate a collassare), poi aggiunto BH con determinata velocità: ma condizioni al contorno introducono effetti spuri\n",
    "    - Tubo lungo dove il BH non fa in tempo a incontrare i muri\n",
    "    - Idea vincente: galleria del vento\n",
    "- Ottimizzazione del setup: stelle continuamente sostituite da stelle immesse da destra, con un tasso controllato\n",
    "- Variamo mBH, v stelle (costante, MB), $\\rho$ stelle, mantenendo log $\\Lambda$ costante\n",
    "- Su setup semplice (gas in box periodica, senza BH) variamo configurazione integratori, tree, softening, opening angle, teniamo parametri uguali ma numero di particelle variabile"
   ]
  },
  {
   "cell_type": "markdown",
   "id": "352ddb2a",
   "metadata": {},
   "source": [
    "# Test parametri di rebound\n"
   ]
  },
  {
   "cell_type": "markdown",
   "id": "d16663eb",
   "metadata": {},
   "source": [
    "Vediamo di fare un setup semplice, gas in box periodiche (+ non periodiche?) e di vedere come cambia \n",
    "\n",
    "[Link prova](#sezione2)"
   ]
  },
  {
   "cell_type": "markdown",
   "id": "09f26ccf",
   "metadata": {},
   "source": [
    "<a id='sezione2'></a>\n",
    "# LA sezione due"
   ]
  }
 ],
 "metadata": {
  "language_info": {
   "name": "python"
  }
 },
 "nbformat": 4,
 "nbformat_minor": 5
}
